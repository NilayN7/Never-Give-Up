{
  "cells": [
    {
      "cell_type": "code",
      "execution_count": null,
      "metadata": {
        "id": "xDuR18D_2Jp5",
        "colab": {
          "base_uri": "https://localhost:8080/"
        },
        "outputId": "71e1c35c-71e7-4c3b-d428-be912a7135c7"
      },
      "outputs": [
        {
          "output_type": "stream",
          "name": "stdout",
          "text": [
            "Looking in indexes: https://pypi.org/simple, https://us-python.pkg.dev/colab-wheels/public/simple/\n",
            "Requirement already satisfied: gym-maze-trustycoder83 in /usr/local/lib/python3.7/dist-packages (0.0.4)\n",
            "Requirement already satisfied: numpy==1.18.5 in /usr/local/lib/python3.7/dist-packages (from gym-maze-trustycoder83) (1.18.5)\n",
            "Requirement already satisfied: gym==0.17.2 in /usr/local/lib/python3.7/dist-packages (from gym-maze-trustycoder83) (0.17.2)\n",
            "Requirement already satisfied: pygame==1.9.6 in /usr/local/lib/python3.7/dist-packages (from gym-maze-trustycoder83) (1.9.6)\n",
            "Requirement already satisfied: pyglet<=1.5.0,>=1.4.0 in /usr/local/lib/python3.7/dist-packages (from gym==0.17.2->gym-maze-trustycoder83) (1.5.0)\n",
            "Requirement already satisfied: cloudpickle<1.4.0,>=1.2.0 in /usr/local/lib/python3.7/dist-packages (from gym==0.17.2->gym-maze-trustycoder83) (1.3.0)\n",
            "Requirement already satisfied: scipy in /usr/local/lib/python3.7/dist-packages (from gym==0.17.2->gym-maze-trustycoder83) (1.7.3)\n",
            "Requirement already satisfied: future in /usr/local/lib/python3.7/dist-packages (from pyglet<=1.5.0,>=1.4.0->gym==0.17.2->gym-maze-trustycoder83) (0.16.0)\n",
            "Looking in indexes: https://pypi.org/simple, https://us-python.pkg.dev/colab-wheels/public/simple/\n",
            "Requirement already satisfied: pyamaze in /usr/local/lib/python3.7/dist-packages (1.0.1)\n"
          ]
        }
      ],
      "source": [
        "!pip install gym-maze-trustycoder83\n",
        "!pip install pyamaze"
      ]
    },
    {
      "cell_type": "code",
      "source": [
        "import torch\n",
        "from typing import List\n",
        "import numpy as np\n",
        "import torch.nn.functional as F\n",
        "from torch import nn, optim, Tensor\n",
        "import random\n",
        "from collections import namedtuple, deque\n",
        "import os\n",
        "import csv\n",
        "from gym import Wrapper\n",
        "from gym_maze.envs.maze_env import MazeEnvSample5x5\n",
        "from google.colab import files\n",
        "import pandas as pd\n",
        "import matplotlib.pyplot as plt"
      ],
      "metadata": {
        "id": "Y31iOHZEyQPG"
      },
      "execution_count": null,
      "outputs": []
    },
    {
      "cell_type": "code",
      "execution_count": null,
      "metadata": {
        "id": "eJeEzhZNxqlE"
      },
      "outputs": [],
      "source": [
        "gamma=0.99\n",
        "batch_size=32\n",
        "lr=0.001\n",
        "initial_exploration=1000\n",
        "log_interval=10\n",
        "update_target=1000\n",
        "replay_memory_capacity=1000\n",
        "device=\"cpu\" if torch.cuda.is_available() else \"gpu\"\n",
        "sequence_length=32\n",
        "burn_in_length=4\n",
        "eta=0.9\n",
        "local_mini_batch=8\n",
        "n_step=2\n",
        "over_lapping_length=16\n",
        "weight_decay = 1e-5\n",
        "epsilon_decay=0.00001\n",
        "random_seed=42\n",
        "enable_ngu=True\n",
        "hidden_size=16\n",
        "filename = \"\"\n",
        "if os.path.exists(\"/content/Results.csv\"):\n",
        "  filename = \"/content/Results.csv\"\n",
        "else:\n",
        "  print(\"File does not Exist\")\n",
        "PATH = \"\"\n",
        "if os.path.exists(\"/content/checkpoint1.pt\"):\n",
        "  PATH = \"/content/checkpoint1.pt\"\n",
        "else:\n",
        "  print(\"Invalid path for saving and loading\")"
      ]
    },
    {
      "cell_type": "markdown",
      "metadata": {
        "id": "vehszHQNDBXy"
      },
      "source": [
        "#Embedding Model"
      ]
    },
    {
      "cell_type": "code",
      "execution_count": null,
      "metadata": {
        "id": "2cSSTm6q6rgY"
      },
      "outputs": [],
      "source": [
        "class EmbeddingModel(nn.Module):\n",
        "    def __init__(self, obs_size, num_outputs):\n",
        "        super(EmbeddingModel, self).__init__()\n",
        "        self.obs_size = obs_size\n",
        "        self.num_outputs = num_outputs\n",
        "\n",
        "        self.fc1 = nn.Linear(obs_size, 32)\n",
        "        self.fc2 = nn.Linear(32, 32)\n",
        "        self.last = nn.Linear(32 * 2, num_outputs)\n",
        "\n",
        "        self.optimizer = optim.Adam(self.parameters(), lr=1e-5)\n",
        "\n",
        "    def forward(self, x1, x2):\n",
        "        x1 = self.embedding(x1)\n",
        "        x2 = self.embedding(x2)\n",
        "        x = torch.cat([x1, x2], dim=2)\n",
        "        x = self.last(x)\n",
        "        return nn.Softmax(dim=2)(x)\n",
        "\n",
        "    def embedding(self, x):\n",
        "        x = F.relu(self.fc1(x))\n",
        "        x = F.relu(self.fc2(x))\n",
        "        return x\n",
        "\n",
        "    def train_model(self, batch):\n",
        "        batch_size = torch.stack(batch.state).size()[0]\n",
        "        \n",
        "        states = torch.stack(batch.state).view(batch_size, sequence_length, self.obs_size)[:, -5:, :]\n",
        "        next_states = torch.stack(batch.next_state).view(batch_size, sequence_length, self.obs_size)[:, -5:, :]\n",
        "        actions = torch.stack(batch.action).view(batch_size, sequence_length, -1).long()[:, -5:, :]\n",
        "\n",
        "        self.optimizer.zero_grad()\n",
        "        net_out = self.forward(states, next_states)\n",
        "        actions_one_hot = torch.squeeze(F.one_hot(actions, self.num_outputs)).float()\n",
        "        loss = nn.MSELoss()(net_out, actions_one_hot)\n",
        "        loss.backward()\n",
        "        self.optimizer.step()\n",
        "        return loss.item()\n",
        "\n",
        "\n",
        "def compute_intrinsic_reward(\n",
        "    episodic_memory: List,\n",
        "    current_c_state: Tensor,\n",
        "    k=10,\n",
        "    kernel_cluster_distance=0.008,\n",
        "    kernel_epsilon=0.0001,\n",
        "    c=0.001,\n",
        "    sm=8,\n",
        "):\n",
        "    state_dist = [(c_state, torch.dist(c_state, current_c_state)) for c_state in episodic_memory]\n",
        "    state_dist.sort(key=lambda x: x[1])\n",
        "    state_dist = state_dist[:k]\n",
        "    dist = [d[1].item() for d in state_dist]\n",
        "    dist = np.array(dist)\n",
        "\n",
        "    dist = dist / np.mean(dist)\n",
        "\n",
        "    dist = np.max(dist - kernel_cluster_distance, 0)\n",
        "    kernel = kernel_epsilon / (dist + kernel_epsilon)\n",
        "    s = np.sqrt(np.sum(kernel)) + c\n",
        "\n",
        "    if np.isnan(s) or s > sm:\n",
        "        return 0\n",
        "    return 1 / s"
      ]
    },
    {
      "cell_type": "markdown",
      "metadata": {
        "id": "3I8MKLcz2-Nx"
      },
      "source": [
        "#Model"
      ]
    },
    {
      "cell_type": "code",
      "execution_count": null,
      "metadata": {
        "id": "-jk-4Po_2_vf"
      },
      "outputs": [],
      "source": [
        "class R2D2(nn.Module):\n",
        "    def __init__(self, num_inputs, num_outputs):\n",
        "        super(R2D2, self).__init__()\n",
        "        self.num_inputs = num_inputs\n",
        "        self.num_outputs = num_outputs\n",
        "\n",
        "        self.lstm = nn.LSTM(input_size=num_inputs, hidden_size=hidden_size, batch_first=True)\n",
        "        self.fc = nn.Linear(hidden_size, 128)\n",
        "        self.fc_adv = nn.Linear(128, num_outputs)\n",
        "        self.fc_val = nn.Linear(128, 1)\n",
        "\n",
        "    def forward(self, x, hidden=None):\n",
        "        batch_size = x.size()[0]\n",
        "        sequence_length = x.size()[1]\n",
        "        out, hidden = self.lstm(x, hidden)\n",
        "\n",
        "        out = F.relu(self.fc(out))\n",
        "        adv = self.fc_adv(out)\n",
        "        adv = adv.view(batch_size, sequence_length, self.num_outputs)\n",
        "        val = self.fc_val(out)\n",
        "        val = val.view(batch_size, sequence_length, 1)\n",
        "\n",
        "        qvalue = val + (adv - adv.mean(dim=2, keepdim=True))\n",
        "\n",
        "        return qvalue, hidden\n",
        "\n",
        "    @classmethod\n",
        "    def get_td_error(cls, online_net, target_net, batch, lengths):\n",
        "        def slice_burn_in(item):\n",
        "            return item[:, burn_in_length :, :]\n",
        "\n",
        "        batch_size = torch.stack(batch.state).size()[0]\n",
        "        states = torch.stack(batch.state).view(batch_size, sequence_length, online_net.num_inputs)\n",
        "        next_states = torch.stack(batch.next_state).view(batch_size, sequence_length, online_net.num_inputs)\n",
        "        actions = torch.stack(batch.action).view(batch_size, sequence_length, -1).long()\n",
        "        rewards = torch.stack(batch.reward).view(batch_size, sequence_length, -1)\n",
        "        masks = torch.stack(batch.mask).view(batch_size, sequence_length, -1)\n",
        "        steps = torch.stack(batch.step).view(batch_size, sequence_length, -1)\n",
        "        rnn_state = torch.stack(batch.rnn_state).view(batch_size, sequence_length, 2, -1)\n",
        "\n",
        "        [h0, c0] = rnn_state[:, 0, :, :].transpose(0, 1)\n",
        "        h0 = h0.unsqueeze(0).detach()\n",
        "        c0 = c0.unsqueeze(0).detach()\n",
        "\n",
        "        [h1, c1] = rnn_state[:, 1, :, :].transpose(0, 1)\n",
        "        h1 = h1.unsqueeze(0).detach()\n",
        "        c1 = c1.unsqueeze(0).detach()\n",
        "\n",
        "        pred, _ = online_net(states, (h0, c0))\n",
        "        next_pred, _ = target_net(next_states, (h1, c1))\n",
        "\n",
        "        next_pred_online, _ = online_net(next_states, (h1, c1))\n",
        "\n",
        "        pred = slice_burn_in(pred)\n",
        "        next_pred = slice_burn_in(next_pred)\n",
        "        actions = slice_burn_in(actions)\n",
        "        rewards = slice_burn_in(rewards)\n",
        "        masks = slice_burn_in(masks)\n",
        "        steps = slice_burn_in(steps)\n",
        "        next_pred_online = slice_burn_in(next_pred_online)\n",
        "\n",
        "        pred = pred.gather(2, actions)\n",
        "\n",
        "        _, next_pred_online_action = next_pred_online.max(2)\n",
        "\n",
        "        target = rewards + masks * pow(gamma, steps) * next_pred.gather(2, next_pred_online_action.unsqueeze(2))\n",
        "\n",
        "        td_error = pred - target.detach()\n",
        "\n",
        "        for idx, length in enumerate(lengths):\n",
        "            td_error[idx][length - burn_in_length :][:] = 0\n",
        "\n",
        "        return td_error\n",
        "\n",
        "    @classmethod\n",
        "    def train_model(cls, online_net, target_net, optimizer, batch, lengths):\n",
        "        td_error = cls.get_td_error(online_net, target_net, batch, lengths)\n",
        "\n",
        "        loss = pow(td_error, 2).mean()\n",
        "\n",
        "        optimizer.zero_grad()\n",
        "        loss.backward()\n",
        "        optimizer.step()\n",
        "\n",
        "        return loss, td_error\n",
        "\n",
        "    def get_action(self, state, hidden):\n",
        "        state = state.unsqueeze(0).unsqueeze(0)\n",
        "\n",
        "        qvalue, hidden = self.forward(state, hidden)\n",
        "\n",
        "        _, action = torch.max(qvalue, 2)\n",
        "        return action.numpy()[0][0], hidden"
      ]
    },
    {
      "cell_type": "markdown",
      "metadata": {
        "id": "dR7Ep47Pyzvu"
      },
      "source": [
        "#Memory"
      ]
    },
    {
      "cell_type": "code",
      "execution_count": null,
      "metadata": {
        "id": "RuFjtwfOyzUS"
      },
      "outputs": [],
      "source": [
        "Transition = namedtuple(\n",
        "    \"Transition\",\n",
        "    (\"state\", \"next_state\", \"action\", \"reward\", \"mask\", \"step\", \"rnn_state\"),\n",
        ")\n",
        "\n",
        "\n",
        "class LocalBuffer(object):\n",
        "    def __init__(self):\n",
        "        self.n_step_memory = []\n",
        "        self.local_memory = []\n",
        "        self.memory = []\n",
        "        self.over_lapping_from_prev = []\n",
        "\n",
        "    def push(self, state, next_state, action, reward, mask, rnn_state):\n",
        "        self.n_step_memory.append([state, next_state, action, reward, mask, rnn_state])\n",
        "        if len(self.n_step_memory) == n_step or mask == 0:\n",
        "            [state, _, action, _, _, rnn_state] = self.n_step_memory[0]\n",
        "            [_, next_state, _, _, mask, _] = self.n_step_memory[-1]\n",
        "\n",
        "            sum_reward = 0\n",
        "            for t in reversed(range(len(self.n_step_memory))):\n",
        "                [_, _, _, reward, _, _] = self.n_step_memory[t]\n",
        "                sum_reward += reward + gamma * sum_reward\n",
        "            reward = sum_reward\n",
        "            step = len(self.n_step_memory)\n",
        "            self.push_local_memory(state, next_state, action, reward, mask, step, rnn_state)\n",
        "            self.n_step_memory = []\n",
        "\n",
        "    def push_local_memory(self, state, next_state, action, reward, mask, step, rnn_state):\n",
        "        self.local_memory.append(\n",
        "            Transition(\n",
        "                state,\n",
        "                next_state,\n",
        "                action,\n",
        "                reward,\n",
        "                mask,\n",
        "                step,\n",
        "                torch.stack(rnn_state).view(2, -1),\n",
        "            )\n",
        "        )\n",
        "        if (len(self.local_memory) + len(self.over_lapping_from_prev)) == sequence_length or mask == 0:\n",
        "            self.local_memory = self.over_lapping_from_prev + self.local_memory\n",
        "            length = len(self.local_memory)\n",
        "            while len(self.local_memory) < sequence_length:\n",
        "                self.local_memory.append(\n",
        "                    Transition(\n",
        "                        torch.Tensor([0, 0]),\n",
        "                        torch.Tensor([0, 0]),\n",
        "                        0,\n",
        "                        0,\n",
        "                        0,\n",
        "                        0,\n",
        "                        torch.zeros([2, 1, hidden_size]).view(2, -1),\n",
        "                    )\n",
        "                )\n",
        "            self.memory.append([self.local_memory, length])\n",
        "            if mask == 0:\n",
        "                self.over_lapping_from_prev = []\n",
        "            else:\n",
        "                self.over_lapping_from_prev = self.local_memory[len(self.local_memory) - over_lapping_length :]\n",
        "            self.local_memory = []\n",
        "\n",
        "    def sample(self):\n",
        "        episodes = self.memory\n",
        "        (\n",
        "            batch_state,\n",
        "            batch_next_state,\n",
        "            batch_action,\n",
        "            batch_reward,\n",
        "            batch_mask,\n",
        "            batch_step,\n",
        "            batch_rnn_state,\n",
        "        ) = ([], [], [], [], [], [], [])\n",
        "        lengths = []\n",
        "        for episode, length in episodes:\n",
        "            batch = Transition(*zip(*episode))\n",
        "\n",
        "            batch_state.append(torch.stack(list(batch.state)))\n",
        "            batch_next_state.append(torch.stack(list(batch.next_state)))\n",
        "            batch_action.append(torch.Tensor(list(batch.action)))\n",
        "            batch_reward.append(torch.Tensor(list(batch.reward)))\n",
        "            batch_mask.append(torch.Tensor(list(batch.mask)))\n",
        "            batch_step.append(torch.Tensor(list(batch.step)))\n",
        "            batch_rnn_state.append(torch.stack(list(batch.rnn_state)))\n",
        "\n",
        "            lengths.append(length)\n",
        "        self.memory = []\n",
        "        return (\n",
        "            Transition(\n",
        "                batch_state,\n",
        "                batch_next_state,\n",
        "                batch_action,\n",
        "                batch_reward,\n",
        "                batch_mask,\n",
        "                batch_step,\n",
        "                batch_rnn_state,\n",
        "            ),\n",
        "            lengths,\n",
        "        )\n",
        "\n",
        "\n",
        "class Memory(object):\n",
        "    def __init__(self, capacity):\n",
        "        self.capacity = capacity\n",
        "        self.memory = deque(maxlen=capacity)\n",
        "        self.memory_probability = deque(maxlen=capacity)\n",
        "\n",
        "    def td_error_to_priority(self, td_error, lengths):\n",
        "        abs_td_error_sum = td_error.abs().sum(dim=1, keepdim=True).view(-1).detach().numpy()\n",
        "        lengths_burn = [length - burn_in_length + 1 for length in lengths]\n",
        "\n",
        "        prior_max = td_error.abs().max(dim=1, keepdim=True)[0].view(-1).detach().numpy()\n",
        "\n",
        "        prior_mean = abs_td_error_sum / lengths_burn\n",
        "        prior = eta * prior_max + (1 - eta) * prior_mean\n",
        "        return prior\n",
        "\n",
        "    def push(self, td_error, batch, lengths):\n",
        "        \n",
        "        prior = self.td_error_to_priority(td_error, lengths)\n",
        "\n",
        "        for i in range(len(batch)):\n",
        "            self.memory.append(\n",
        "                [\n",
        "                    Transition(\n",
        "                        batch.state[i],\n",
        "                        batch.next_state[i],\n",
        "                        batch.action[i],\n",
        "                        batch.reward[i],\n",
        "                        batch.mask[i],\n",
        "                        batch.step[i],\n",
        "                        batch.rnn_state[i],\n",
        "                    ),\n",
        "                    lengths[i],\n",
        "                ]\n",
        "            )\n",
        "            self.memory_probability.append(prior[i])\n",
        "\n",
        "    def sample(self, batch_size):\n",
        "        probability = np.array(self.memory_probability)\n",
        "        probability = probability / probability.sum()\n",
        "\n",
        "        indexes = np.random.choice(range(len(self.memory_probability)), batch_size, p=probability)\n",
        "        episodes = [self.memory[idx][0] for idx in indexes]\n",
        "        lengths = [self.memory[idx][1] for idx in indexes]\n",
        "\n",
        "        (\n",
        "            batch_state,\n",
        "            batch_next_state,\n",
        "            batch_action,\n",
        "            batch_reward,\n",
        "            batch_mask,\n",
        "            batch_step,\n",
        "            batch_rnn_state,\n",
        "        ) = ([], [], [], [], [], [], [])\n",
        "        for episode in episodes:\n",
        "            batch_state.append(episode.state)\n",
        "            batch_next_state.append(episode.next_state)\n",
        "            batch_action.append(episode.action)\n",
        "            batch_reward.append(episode.reward)\n",
        "            batch_mask.append(episode.mask)\n",
        "            batch_step.append(episode.step)\n",
        "            batch_rnn_state.append(episode.rnn_state)\n",
        "\n",
        "        return (\n",
        "            Transition(\n",
        "                batch_state,\n",
        "                batch_next_state,\n",
        "                batch_action,\n",
        "                batch_reward,\n",
        "                batch_mask,\n",
        "                batch_step,\n",
        "                batch_rnn_state,\n",
        "            ),\n",
        "            indexes,\n",
        "            lengths,\n",
        "        )\n",
        "\n",
        "    def update_priority(self, indexes, td_error, lengths):\n",
        "        prior = self.td_error_to_priority(td_error, lengths)\n",
        "        priors_idx = 0\n",
        "        for idx in indexes:\n",
        "            self.memory_probability[idx] = prior[priors_idx]\n",
        "            priors_idx += 1\n",
        "\n",
        "    def __len__(self):\n",
        "        return len(self.memory)"
      ]
    },
    {
      "cell_type": "markdown",
      "metadata": {
        "id": "u-oHAhNC6aA6"
      },
      "source": [
        "#Train"
      ]
    },
    {
      "cell_type": "code",
      "execution_count": null,
      "metadata": {
        "id": "CGmsKIWIbUfb",
        "colab": {
          "base_uri": "https://localhost:8080/",
          "height": 435
        },
        "outputId": "8abcf8c4-0039-4265-a6f4-e04d207b5a76"
      },
      "outputs": [
        {
          "output_type": "stream",
          "name": "stdout",
          "text": [
            "state size: 2\n",
            "action size: 4\n"
          ]
        },
        {
          "output_type": "stream",
          "name": "stderr",
          "text": [
            "/usr/local/lib/python3.7/dist-packages/ipykernel_launcher.py:64: RuntimeWarning: invalid value encountered in true_divide\n"
          ]
        },
        {
          "output_type": "stream",
          "name": "stdout",
          "text": [
            "episode : 10 mean_reward : -0.43999999999999584 epsilon : 1.0 embedding_loss : 0 loss : 0 mean_augmented_reward : 0.46580447844277684 steps : 1100 sum_obs_set : 10.5 \n"
          ]
        },
        {
          "output_type": "error",
          "ename": "KeyboardInterrupt",
          "evalue": "ignored",
          "traceback": [
            "\u001b[0;31m---------------------------------------------------------------------------\u001b[0m",
            "\u001b[0;31mKeyboardInterrupt\u001b[0m                         Traceback (most recent call last)",
            "\u001b[0;32m<ipython-input-8-e35b65a8432e>\u001b[0m in \u001b[0;36m<module>\u001b[0;34m\u001b[0m\n\u001b[1;32m    189\u001b[0m \u001b[0;34m\u001b[0m\u001b[0m\n\u001b[1;32m    190\u001b[0m \u001b[0;32mif\u001b[0m \u001b[0m__name__\u001b[0m \u001b[0;34m==\u001b[0m \u001b[0;34m\"__main__\"\u001b[0m\u001b[0;34m:\u001b[0m\u001b[0;34m\u001b[0m\u001b[0;34m\u001b[0m\u001b[0m\n\u001b[0;32m--> 191\u001b[0;31m     \u001b[0mmain\u001b[0m\u001b[0;34m(\u001b[0m\u001b[0;34m)\u001b[0m\u001b[0;34m\u001b[0m\u001b[0;34m\u001b[0m\u001b[0m\n\u001b[0m",
            "\u001b[0;32m<ipython-input-8-e35b65a8432e>\u001b[0m in \u001b[0;36mmain\u001b[0;34m()\u001b[0m\n\u001b[1;32m    132\u001b[0m \u001b[0;34m\u001b[0m\u001b[0m\n\u001b[1;32m    133\u001b[0m                 \u001b[0mbatch\u001b[0m\u001b[0;34m,\u001b[0m \u001b[0mindexes\u001b[0m\u001b[0;34m,\u001b[0m \u001b[0mlengths\u001b[0m \u001b[0;34m=\u001b[0m \u001b[0mmemory\u001b[0m\u001b[0;34m.\u001b[0m\u001b[0msample\u001b[0m\u001b[0;34m(\u001b[0m\u001b[0mbatch_size\u001b[0m\u001b[0;34m)\u001b[0m\u001b[0;34m\u001b[0m\u001b[0;34m\u001b[0m\u001b[0m\n\u001b[0;32m--> 134\u001b[0;31m                 \u001b[0mloss\u001b[0m\u001b[0;34m,\u001b[0m \u001b[0mtd_error\u001b[0m \u001b[0;34m=\u001b[0m \u001b[0mR2D2\u001b[0m\u001b[0;34m.\u001b[0m\u001b[0mtrain_model\u001b[0m\u001b[0;34m(\u001b[0m\u001b[0monline_net\u001b[0m\u001b[0;34m,\u001b[0m \u001b[0mtarget_net\u001b[0m\u001b[0;34m,\u001b[0m \u001b[0moptimizer\u001b[0m\u001b[0;34m,\u001b[0m \u001b[0mbatch\u001b[0m\u001b[0;34m,\u001b[0m \u001b[0mlengths\u001b[0m\u001b[0;34m)\u001b[0m\u001b[0;34m\u001b[0m\u001b[0;34m\u001b[0m\u001b[0m\n\u001b[0m\u001b[1;32m    135\u001b[0m \u001b[0;34m\u001b[0m\u001b[0m\n\u001b[1;32m    136\u001b[0m                 \u001b[0;32mif\u001b[0m \u001b[0menable_ngu\u001b[0m\u001b[0;34m:\u001b[0m\u001b[0;34m\u001b[0m\u001b[0;34m\u001b[0m\u001b[0m\n",
            "\u001b[0;32m<ipython-input-4-5b7234d22c6f>\u001b[0m in \u001b[0;36mtrain_model\u001b[0;34m(cls, online_net, target_net, optimizer, batch, lengths)\u001b[0m\n\u001b[1;32m     80\u001b[0m     \u001b[0;34m@\u001b[0m\u001b[0mclassmethod\u001b[0m\u001b[0;34m\u001b[0m\u001b[0;34m\u001b[0m\u001b[0m\n\u001b[1;32m     81\u001b[0m     \u001b[0;32mdef\u001b[0m \u001b[0mtrain_model\u001b[0m\u001b[0;34m(\u001b[0m\u001b[0mcls\u001b[0m\u001b[0;34m,\u001b[0m \u001b[0monline_net\u001b[0m\u001b[0;34m,\u001b[0m \u001b[0mtarget_net\u001b[0m\u001b[0;34m,\u001b[0m \u001b[0moptimizer\u001b[0m\u001b[0;34m,\u001b[0m \u001b[0mbatch\u001b[0m\u001b[0;34m,\u001b[0m \u001b[0mlengths\u001b[0m\u001b[0;34m)\u001b[0m\u001b[0;34m:\u001b[0m\u001b[0;34m\u001b[0m\u001b[0;34m\u001b[0m\u001b[0m\n\u001b[0;32m---> 82\u001b[0;31m         \u001b[0mtd_error\u001b[0m \u001b[0;34m=\u001b[0m \u001b[0mcls\u001b[0m\u001b[0;34m.\u001b[0m\u001b[0mget_td_error\u001b[0m\u001b[0;34m(\u001b[0m\u001b[0monline_net\u001b[0m\u001b[0;34m,\u001b[0m \u001b[0mtarget_net\u001b[0m\u001b[0;34m,\u001b[0m \u001b[0mbatch\u001b[0m\u001b[0;34m,\u001b[0m \u001b[0mlengths\u001b[0m\u001b[0;34m)\u001b[0m\u001b[0;34m\u001b[0m\u001b[0;34m\u001b[0m\u001b[0m\n\u001b[0m\u001b[1;32m     83\u001b[0m \u001b[0;34m\u001b[0m\u001b[0m\n\u001b[1;32m     84\u001b[0m         \u001b[0mloss\u001b[0m \u001b[0;34m=\u001b[0m \u001b[0mpow\u001b[0m\u001b[0;34m(\u001b[0m\u001b[0mtd_error\u001b[0m\u001b[0;34m,\u001b[0m \u001b[0;36m2\u001b[0m\u001b[0;34m)\u001b[0m\u001b[0;34m.\u001b[0m\u001b[0mmean\u001b[0m\u001b[0;34m(\u001b[0m\u001b[0;34m)\u001b[0m\u001b[0;34m\u001b[0m\u001b[0;34m\u001b[0m\u001b[0m\n",
            "\u001b[0;32m<ipython-input-4-5b7234d22c6f>\u001b[0m in \u001b[0;36mget_td_error\u001b[0;34m(cls, online_net, target_net, batch, lengths)\u001b[0m\n\u001b[1;32m     53\u001b[0m \u001b[0;34m\u001b[0m\u001b[0m\n\u001b[1;32m     54\u001b[0m         \u001b[0mpred\u001b[0m\u001b[0;34m,\u001b[0m \u001b[0m_\u001b[0m \u001b[0;34m=\u001b[0m \u001b[0monline_net\u001b[0m\u001b[0;34m(\u001b[0m\u001b[0mstates\u001b[0m\u001b[0;34m,\u001b[0m \u001b[0;34m(\u001b[0m\u001b[0mh0\u001b[0m\u001b[0;34m,\u001b[0m \u001b[0mc0\u001b[0m\u001b[0;34m)\u001b[0m\u001b[0;34m)\u001b[0m\u001b[0;34m\u001b[0m\u001b[0;34m\u001b[0m\u001b[0m\n\u001b[0;32m---> 55\u001b[0;31m         \u001b[0mnext_pred\u001b[0m\u001b[0;34m,\u001b[0m \u001b[0m_\u001b[0m \u001b[0;34m=\u001b[0m \u001b[0mtarget_net\u001b[0m\u001b[0;34m(\u001b[0m\u001b[0mnext_states\u001b[0m\u001b[0;34m,\u001b[0m \u001b[0;34m(\u001b[0m\u001b[0mh1\u001b[0m\u001b[0;34m,\u001b[0m \u001b[0mc1\u001b[0m\u001b[0;34m)\u001b[0m\u001b[0;34m)\u001b[0m\u001b[0;34m\u001b[0m\u001b[0;34m\u001b[0m\u001b[0m\n\u001b[0m\u001b[1;32m     56\u001b[0m \u001b[0;34m\u001b[0m\u001b[0m\n\u001b[1;32m     57\u001b[0m         \u001b[0mnext_pred_online\u001b[0m\u001b[0;34m,\u001b[0m \u001b[0m_\u001b[0m \u001b[0;34m=\u001b[0m \u001b[0monline_net\u001b[0m\u001b[0;34m(\u001b[0m\u001b[0mnext_states\u001b[0m\u001b[0;34m,\u001b[0m \u001b[0;34m(\u001b[0m\u001b[0mh1\u001b[0m\u001b[0;34m,\u001b[0m \u001b[0mc1\u001b[0m\u001b[0;34m)\u001b[0m\u001b[0;34m)\u001b[0m\u001b[0;34m\u001b[0m\u001b[0;34m\u001b[0m\u001b[0m\n",
            "\u001b[0;32m/usr/local/lib/python3.7/dist-packages/torch/nn/modules/module.py\u001b[0m in \u001b[0;36m_call_impl\u001b[0;34m(self, *input, **kwargs)\u001b[0m\n\u001b[1;32m   1128\u001b[0m         if not (self._backward_hooks or self._forward_hooks or self._forward_pre_hooks or _global_backward_hooks\n\u001b[1;32m   1129\u001b[0m                 or _global_forward_hooks or _global_forward_pre_hooks):\n\u001b[0;32m-> 1130\u001b[0;31m             \u001b[0;32mreturn\u001b[0m \u001b[0mforward_call\u001b[0m\u001b[0;34m(\u001b[0m\u001b[0;34m*\u001b[0m\u001b[0minput\u001b[0m\u001b[0;34m,\u001b[0m \u001b[0;34m**\u001b[0m\u001b[0mkwargs\u001b[0m\u001b[0;34m)\u001b[0m\u001b[0;34m\u001b[0m\u001b[0;34m\u001b[0m\u001b[0m\n\u001b[0m\u001b[1;32m   1131\u001b[0m         \u001b[0;31m# Do not call functions when jit is used\u001b[0m\u001b[0;34m\u001b[0m\u001b[0;34m\u001b[0m\u001b[0;34m\u001b[0m\u001b[0m\n\u001b[1;32m   1132\u001b[0m         \u001b[0mfull_backward_hooks\u001b[0m\u001b[0;34m,\u001b[0m \u001b[0mnon_full_backward_hooks\u001b[0m \u001b[0;34m=\u001b[0m \u001b[0;34m[\u001b[0m\u001b[0;34m]\u001b[0m\u001b[0;34m,\u001b[0m \u001b[0;34m[\u001b[0m\u001b[0;34m]\u001b[0m\u001b[0;34m\u001b[0m\u001b[0;34m\u001b[0m\u001b[0m\n",
            "\u001b[0;32m<ipython-input-4-5b7234d22c6f>\u001b[0m in \u001b[0;36mforward\u001b[0;34m(self, x, hidden)\u001b[0m\n\u001b[1;32m     21\u001b[0m \u001b[0;34m\u001b[0m\u001b[0m\n\u001b[1;32m     22\u001b[0m         \u001b[0mout\u001b[0m \u001b[0;34m=\u001b[0m \u001b[0mF\u001b[0m\u001b[0;34m.\u001b[0m\u001b[0mrelu\u001b[0m\u001b[0;34m(\u001b[0m\u001b[0mself\u001b[0m\u001b[0;34m.\u001b[0m\u001b[0mfc\u001b[0m\u001b[0;34m(\u001b[0m\u001b[0mout\u001b[0m\u001b[0;34m)\u001b[0m\u001b[0;34m)\u001b[0m\u001b[0;34m\u001b[0m\u001b[0;34m\u001b[0m\u001b[0m\n\u001b[0;32m---> 23\u001b[0;31m         \u001b[0madv\u001b[0m \u001b[0;34m=\u001b[0m \u001b[0mself\u001b[0m\u001b[0;34m.\u001b[0m\u001b[0mfc_adv\u001b[0m\u001b[0;34m(\u001b[0m\u001b[0mout\u001b[0m\u001b[0;34m)\u001b[0m\u001b[0;34m\u001b[0m\u001b[0;34m\u001b[0m\u001b[0m\n\u001b[0m\u001b[1;32m     24\u001b[0m         \u001b[0madv\u001b[0m \u001b[0;34m=\u001b[0m \u001b[0madv\u001b[0m\u001b[0;34m.\u001b[0m\u001b[0mview\u001b[0m\u001b[0;34m(\u001b[0m\u001b[0mbatch_size\u001b[0m\u001b[0;34m,\u001b[0m \u001b[0msequence_length\u001b[0m\u001b[0;34m,\u001b[0m \u001b[0mself\u001b[0m\u001b[0;34m.\u001b[0m\u001b[0mnum_outputs\u001b[0m\u001b[0;34m)\u001b[0m\u001b[0;34m\u001b[0m\u001b[0;34m\u001b[0m\u001b[0m\n\u001b[1;32m     25\u001b[0m         \u001b[0mval\u001b[0m \u001b[0;34m=\u001b[0m \u001b[0mself\u001b[0m\u001b[0;34m.\u001b[0m\u001b[0mfc_val\u001b[0m\u001b[0;34m(\u001b[0m\u001b[0mout\u001b[0m\u001b[0;34m)\u001b[0m\u001b[0;34m\u001b[0m\u001b[0;34m\u001b[0m\u001b[0m\n",
            "\u001b[0;32m/usr/local/lib/python3.7/dist-packages/torch/nn/modules/module.py\u001b[0m in \u001b[0;36m_call_impl\u001b[0;34m(self, *input, **kwargs)\u001b[0m\n\u001b[1;32m   1123\u001b[0m \u001b[0;34m\u001b[0m\u001b[0m\n\u001b[1;32m   1124\u001b[0m     \u001b[0;32mdef\u001b[0m \u001b[0m_call_impl\u001b[0m\u001b[0;34m(\u001b[0m\u001b[0mself\u001b[0m\u001b[0;34m,\u001b[0m \u001b[0;34m*\u001b[0m\u001b[0minput\u001b[0m\u001b[0;34m,\u001b[0m \u001b[0;34m**\u001b[0m\u001b[0mkwargs\u001b[0m\u001b[0;34m)\u001b[0m\u001b[0;34m:\u001b[0m\u001b[0;34m\u001b[0m\u001b[0;34m\u001b[0m\u001b[0m\n\u001b[0;32m-> 1125\u001b[0;31m         \u001b[0mforward_call\u001b[0m \u001b[0;34m=\u001b[0m \u001b[0;34m(\u001b[0m\u001b[0mself\u001b[0m\u001b[0;34m.\u001b[0m\u001b[0m_slow_forward\u001b[0m \u001b[0;32mif\u001b[0m \u001b[0mtorch\u001b[0m\u001b[0;34m.\u001b[0m\u001b[0m_C\u001b[0m\u001b[0;34m.\u001b[0m\u001b[0m_get_tracing_state\u001b[0m\u001b[0;34m(\u001b[0m\u001b[0;34m)\u001b[0m \u001b[0;32melse\u001b[0m \u001b[0mself\u001b[0m\u001b[0;34m.\u001b[0m\u001b[0mforward\u001b[0m\u001b[0;34m)\u001b[0m\u001b[0;34m\u001b[0m\u001b[0;34m\u001b[0m\u001b[0m\n\u001b[0m\u001b[1;32m   1126\u001b[0m         \u001b[0;31m# If we don't have any hooks, we want to skip the rest of the logic in\u001b[0m\u001b[0;34m\u001b[0m\u001b[0;34m\u001b[0m\u001b[0;34m\u001b[0m\u001b[0m\n\u001b[1;32m   1127\u001b[0m         \u001b[0;31m# this function, and just call forward.\u001b[0m\u001b[0;34m\u001b[0m\u001b[0;34m\u001b[0m\u001b[0;34m\u001b[0m\u001b[0m\n",
            "\u001b[0;31mKeyboardInterrupt\u001b[0m: "
          ]
        }
      ],
      "source": [
        "os.environ[\"SDL_VIDEODRIVER\"] = \"dummy\"\n",
        "fields = [\"episode\", \"mean_reward\", \"epsilon\", \"embedding_loss\", \"loss\", \"mean_augmented_reward\", \"steps\", \"sum_obs_set\"]\n",
        "\n",
        "with open(filename, 'w') as csvfile: \n",
        "    csvwriter = csv.writer(csvfile) \n",
        "    csvwriter.writerow(fields)\n",
        "\n",
        "\n",
        "def get_action(state, target_net, epsilon, env, hidden):\n",
        "    action, hidden = target_net.get_action(state, hidden)\n",
        "\n",
        "    if np.random.rand() <= epsilon:\n",
        "        return env.action_space.sample(), hidden\n",
        "    else:\n",
        "        return action, hidden\n",
        "\n",
        "\n",
        "def update_target_model(online_net, target_net):\n",
        "    target_net.load_state_dict(online_net.state_dict())\n",
        "\n",
        "\n",
        "class Maze(Wrapper):\n",
        "    def step(self, action: int):\n",
        "        obs, rew, done, info = super().step([\"N\", \"E\", \"S\", \"W\"][action])\n",
        "        self.set.add((obs[0], obs[1]))\n",
        "        if rew > 0:\n",
        "            rew = 10\n",
        "        return obs / 10, rew, done, info\n",
        "\n",
        "    def reset(self):\n",
        "        self.set = set()\n",
        "        return super().reset()\n",
        "\n",
        "\n",
        "def main():\n",
        "    env = Maze(MazeEnvSample5x5())\n",
        "\n",
        "    resume = True\n",
        "\n",
        "    torch.manual_seed(random_seed)\n",
        "    env.seed(random_seed)\n",
        "    np.random.seed(random_seed)\n",
        "    env.action_space.seed(random_seed)\n",
        "\n",
        "    num_inputs = env.observation_space.shape[0]\n",
        "    num_actions = env.action_space.n\n",
        "    print(\"state size:\", num_inputs)\n",
        "    print(\"action size:\", num_actions)\n",
        "\n",
        "    online_net = R2D2(num_inputs, num_actions)\n",
        "    target_net = R2D2(num_inputs, num_actions)\n",
        "    update_target_model(online_net, target_net)\n",
        "    embedding_model = EmbeddingModel(obs_size=num_inputs, num_outputs=num_actions)\n",
        "    embedding_loss = 0\n",
        "\n",
        "    optimizer = optim.Adam(online_net.parameters(), lr=lr, weight_decay=weight_decay)\n",
        "\n",
        "    online_net.to(device)\n",
        "    target_net.to(device)\n",
        "    online_net.train()\n",
        "    target_net.train()\n",
        "    memory = Memory(replay_memory_capacity)\n",
        "    local_buffer = LocalBuffer()\n",
        "    epsilon = 1.0\n",
        "    steps = 0\n",
        "    loss = 0\n",
        "    start_episode = 0\n",
        "\n",
        "    if resume:\n",
        "      checkpoint = torch.load(PATH)\n",
        "      online_net = online_net.load_state_dict(checkpoint[\"online_net\"])\n",
        "      target_net = target_net.load_state_dict(checkpoint[\"target_net\"])\n",
        "      embedding_model = embedding_model.load_state_dict(checkpoint[\"embedding_model\"])\n",
        "      optimizer = optimizer.load_state_dict(checkpoint[\"optimizer\"])\n",
        "      start_episode = checkpoint[\"episode\"]\n",
        "      loss = checkpoint[\"loss\"]\n",
        "      mean_reward = checkpoint[\"mean_reward\"]\n",
        "      mean_augmented_reward = checkpoint[\"mean_augmented_reward\"]\n",
        "      steps = checkpoint[\"steps\"]\n",
        "      epsilon = checkpoint[\"epsilon\"]\n",
        "\n",
        "    \n",
        "    sum_reward = 0\n",
        "    sum_augmented_reward = 0\n",
        "    sum_obs_set = 0\n",
        "\n",
        "    for episode in range(start_episode, 7000):\n",
        "        done = False\n",
        "        state = env.reset()\n",
        "        state = torch.Tensor(state).to(device)\n",
        "\n",
        "        hidden = (\n",
        "            torch.Tensor().new_zeros(1, 1, hidden_size),\n",
        "            torch.Tensor().new_zeros(1, 1, hidden_size),\n",
        "        )\n",
        "\n",
        "        episodic_memory = [embedding_model.embedding(state)]\n",
        "\n",
        "        episode_steps = 0\n",
        "        horizon = 100\n",
        "        while not done:\n",
        "            steps += 1\n",
        "            episode_steps += 1\n",
        "\n",
        "            action, new_hidden = get_action(state, target_net, epsilon, env, hidden)\n",
        "\n",
        "            next_state, env_reward, done, _ = env.step(action)\n",
        "            next_state = torch.Tensor(next_state)\n",
        "\n",
        "            augmented_reward = env_reward\n",
        "            if enable_ngu:\n",
        "                next_state_emb = embedding_model.embedding(next_state)\n",
        "                intrinsic_reward = compute_intrinsic_reward(episodic_memory, next_state_emb)\n",
        "                episodic_memory.append(next_state_emb)\n",
        "                beta = 0.0001\n",
        "                augmented_reward = env_reward + beta * intrinsic_reward\n",
        "\n",
        "            mask = 0 if done else 1\n",
        "\n",
        "            local_buffer.push(state, next_state, action, augmented_reward, mask, hidden)\n",
        "            hidden = new_hidden\n",
        "            if len(local_buffer.memory) == local_mini_batch:\n",
        "                batch, lengths = local_buffer.sample()\n",
        "                td_error = R2D2.get_td_error(online_net, target_net, batch, lengths)\n",
        "                memory.push(td_error, batch, lengths)\n",
        "\n",
        "            sum_reward += env_reward\n",
        "            state = next_state\n",
        "            sum_augmented_reward += augmented_reward\n",
        "\n",
        "            if steps > initial_exploration and len(memory) > batch_size:\n",
        "                epsilon -= epsilon_decay\n",
        "                epsilon = max(epsilon, 0.4)\n",
        "\n",
        "                batch, indexes, lengths = memory.sample(batch_size)\n",
        "                loss, td_error = R2D2.train_model(online_net, target_net, optimizer, batch, lengths)\n",
        "\n",
        "                if enable_ngu:\n",
        "                    embedding_loss = embedding_model.train_model(batch)\n",
        "\n",
        "                memory.update_priority(indexes, td_error, lengths)\n",
        "\n",
        "                if steps % update_target == 0:\n",
        "                    update_target_model(online_net, target_net)\n",
        "\n",
        "            if episode_steps >= horizon or done:\n",
        "                sum_obs_set += len(env.set)\n",
        "                break\n",
        "\n",
        "        if episode > 0 and episode % log_interval == 0:\n",
        "            mean_reward = sum_reward / log_interval\n",
        "            mean_augmented_reward = sum_augmented_reward / log_interval\n",
        "            metrics = {\n",
        "                \"online_net\": online_net.state_dict(),\n",
        "                \"target_net\": target_net.state_dict(),\n",
        "                \"embedding_model\": embedding_model.state_dict(),\n",
        "                \"optimizer\": optimizer.state_dict(),\n",
        "                \"episode\": episode,\n",
        "                \"mean_reward\": mean_reward,\n",
        "                \"epsilon\": epsilon,\n",
        "                \"embedding_loss\": embedding_loss,\n",
        "                \"loss\": loss,\n",
        "                \"mean_augmented_reward\": mean_augmented_reward,\n",
        "                \"steps\": steps,\n",
        "                \"sum_obs_set\": sum_obs_set / log_interval,\n",
        "            }\n",
        "\n",
        "            with open(filename, 'a') as csvfile:\n",
        "              csvwriter = csv.writer(csvfile)\n",
        "              csvwriter.writerow([episode, mean_reward, epsilon, embedding_loss, loss, mean_augmented_reward, steps, sum_obs_set / log_interval])\n",
        "            \n",
        "            \n",
        "            \n",
        "            torch.save(metrics, PATH)\n",
        "\n",
        "            if episode % log_interval == 0:\n",
        "              for key in metrics.keys():\n",
        "                if key != \"online_net\" and key != \"target_net\" and key != \"embedding_model\" and key != \"optimizer\":\n",
        "                  print(f'{key} : {metrics[key]}', end=\" \")\n",
        "                  # print(\"This is the value of memory: \", memory.memory)\n",
        "            # break\n",
        "              print()\n",
        "            \n",
        "            sum_reward = 0\n",
        "            sum_augmented_reward = 0\n",
        "            sum_obs_set = 0\n",
        "\n",
        "\n",
        "if __name__ == \"__main__\":\n",
        "    main()"
      ]
    },
    {
      "cell_type": "markdown",
      "source": [
        "#Results"
      ],
      "metadata": {
        "id": "GfkLKO0Y4grj"
      }
    },
    {
      "cell_type": "markdown",
      "source": [
        "### Mean Reward vs Episode"
      ],
      "metadata": {
        "id": "k5ga5v7F4mFp"
      }
    },
    {
      "cell_type": "code",
      "source": [
        "data = pd.read_csv(filename)\n",
        "\n",
        "plt.figure(figsize=(15,8))\n",
        "plt.xlabel(\"episode\")\n",
        "plt.ylabel(\"mean_reward\")\n",
        "plt.plot(data[['episode']], data[['mean_reward']])\n",
        "plt.show()"
      ],
      "metadata": {
        "colab": {
          "base_uri": "https://localhost:8080/",
          "height": 481
        },
        "id": "YGI9nCI_EshJ",
        "outputId": "3fc964c8-df61-44e3-9195-52e19122c24b"
      },
      "execution_count": null,
      "outputs": [
        {
          "output_type": "display_data",
          "data": {
            "text/plain": [
              "<Figure size 1080x576 with 1 Axes>"
            ],
            "image/png": "[encoded data removed]"
          },
          "metadata": {
            "needs_background": "light"
          }
        }
      ]
    },
    {
      "cell_type": "markdown",
      "source": [
        "### Loss vs Episode"
      ],
      "metadata": {
        "id": "8lrnlAyS4tBI"
      }
    },
    {
      "cell_type": "code",
      "source": [
        "plt.figure(figsize=(15,8))\n",
        "plt.xlabel(\"episode\")\n",
        "plt.ylabel(\"loss\")\n",
        "plt.plot(data[['episode']], data[['embedding_loss']])\n",
        "plt.show()"
      ],
      "metadata": {
        "id": "cK9Tq4cwEr-1",
        "colab": {
          "base_uri": "https://localhost:8080/",
          "height": 473
        },
        "outputId": "53981c39-f736-4553-add7-d69bc51476bb"
      },
      "execution_count": null,
      "outputs": [
        {
          "output_type": "display_data",
          "data": {
            "text/plain": [
              "<Figure size 1080x576 with 1 Axes>"
            ],
            "image/png": "[encoded data removed]"
          },
          "metadata": {
            "needs_background": "light"
          }
        }
      ]
    },
    {
      "cell_type": "markdown",
      "source": [
        "### Mean Augmented Reward vs Episode"
      ],
      "metadata": {
        "id": "iqt3MrRp4w-8"
      }
    },
    {
      "cell_type": "code",
      "source": [
        "plt.figure(figsize=(15,8))\n",
        "plt.xlabel(\"episode\")\n",
        "plt.ylabel(\"mean_augmented_reward\")\n",
        "plt.plot(data[['episode']], data[['mean_augmented_reward']])\n",
        "plt.show()"
      ],
      "metadata": {
        "id": "nz2bYG9i1Wkg",
        "colab": {
          "base_uri": "https://localhost:8080/",
          "height": 497
        },
        "outputId": "b81caa56-f6eb-4b99-ce51-d3a0ba991e52"
      },
      "execution_count": null,
      "outputs": [
        {
          "output_type": "display_data",
          "data": {
            "text/plain": [
              "<Figure size 1080x576 with 1 Axes>"
            ],
            "image/png": "[encoded data removed]"
          },
          "metadata": {
            "needs_background": "light"
          }
        }
      ]
    },
    {
      "cell_type": "code",
      "source": [],
      "metadata": {
        "id": "PG5ktCG2x6g1"
      },
      "execution_count": null,
      "outputs": []
    }
  ],
  "metadata": {
    "accelerator": "GPU",
    "colab": {
      "collapsed_sections": [],
      "provenance": []
    },
    "kernelspec": {
      "display_name": "Python 3",
      "name": "python3"
    },
    "language_info": {
      "name": "python"
    }
  },
  "nbformat": 4,
  "nbformat_minor": 0
}